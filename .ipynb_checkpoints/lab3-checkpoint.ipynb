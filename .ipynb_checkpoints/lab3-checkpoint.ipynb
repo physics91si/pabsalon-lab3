{
 "cells": [
  {
   "cell_type": "markdown",
   "metadata": {},
   "source": [
    "Physics 91SI\n",
    "\n",
    "Spring 2015\n",
    "\n",
    "Lab 2\n",
    "=====\n",
    "\n",
    "Part 1\n",
    "------"
   ]
  },
  {
   "cell_type": "code",
   "execution_count": 5,
   "metadata": {
    "collapsed": false
   },
   "outputs": [],
   "source": [
    "# Don't edit this function\n",
    "def load_sample():\n",
    "    \"\"\"Return the entire text of Hamlet in a string.\"\"\"\n",
    "    with open('hamlet.txt') as f:\n",
    "        sample = f.read()\n",
    "    return sample"
   ]
  },
  {
   "cell_type": "code",
   "execution_count": 4,
   "metadata": {
    "collapsed": false
   },
   "outputs": [],
   "source": [
    "# Edit this function. \"pass\" tells Python to do nothing.\n",
    "def parse_sample(text, words_only = False, sort_list = False):\n",
    "    list = []\n",
    "    word = \"\"\n",
    "    for char in text:\n",
    "        if char != \" \" and not specialLetters(char):\n",
    "            word += char \n",
    "        else:\n",
    "            list.append(word)\n",
    "            word = \"\"\n",
    "        \n",
    "    if sort_list:\n",
    "        list.sort()\n",
    "        \n",
    "    return list"
   ]
  },
  {
   "cell_type": "code",
   "execution_count": 3,
   "metadata": {
    "collapsed": true
   },
   "outputs": [],
   "source": [
    "def specialLetters(ch):\n",
    "    if ch == '.' or ch == ',' or ch == ':' or ch == ';' or ch == '\"' or ch == ''or ch == '?' or ch == '!': return True\n",
    "    \n",
    "    return False"
   ]
  },
  {
   "cell_type": "markdown",
   "metadata": {},
   "source": [
    "Part 2\n",
    "------"
   ]
  },
  {
   "cell_type": "code",
   "execution_count": 2,
   "metadata": {
    "collapsed": false
   },
   "outputs": [],
   "source": [
    "import statistics\n",
    "\n",
    "def count_freq(lst):\n",
    "    \"\"\"Return a dict of word frequencies given a list of words.\n",
    "    \n",
    "    Arguments:\n",
    "    -- lst: a list of strings\n",
    "\n",
    "    Returns:\n",
    "    -- freq_dict: a dictionary of word: frequency pairs. The keys are strings\n",
    "       containing the words, and the values are integers indicating how many\n",
    "       times each word appears.\n",
    "    \n",
    "    Example:\n",
    "    >>> count_freq(['time', 'after', 'time'])\n",
    "    {'time': 2, 'after': 1}\n",
    "    \"\"\"\n",
    "    wordFrequencies = {}\n",
    "    \n",
    "    for keys in lst:\n",
    "        if lst.has_key(key):\n",
    "            wordFrequencies[keys] = wordFrequencies[keys] + 1\n",
    "            \n",
    "        wordFrequencies[keys] = 1\n",
    "        \n",
    "    return wordFrequencies    \n",
    "\n",
    "    pass\n",
    "\n",
    "def mean(lst):\n",
    "    \"\"\"Return the arithmetic mean of a list of numbers.\"\"\"\n",
    "    numOfElements = len(lst)\n",
    "    total = 0\n",
    "    for element in lst:\n",
    "        total+=element\n",
    "    return total/numOfElements \n",
    " # or using import statistics ----> return statistics.mean(lst)\n",
    "    pass\n",
    "\n",
    "def stdev(lst):\n",
    "    \"\"\"Return the standard deviation of a list of numbers.\"\"\"\n",
    "    # or implement standard dev formula on list without import\n",
    "    return statistics.stdev(lst)\n",
    "    pass\n",
    "\n",
    "def median(lst):\n",
    "    \"\"\"Return the median of a list of numbers.\"\"\"\n",
    "    lst.sort()\n",
    "    listSize = len(lst)\n",
    "    #if odd number of elements \n",
    "    if not listSize % 2:\n",
    "        return 0 #replace 0 with algorithm for middle element for odds\n",
    "    return 1 # replace 1 with algorithm for middle element for evens\n",
    "\n",
    "    # or using import statistics ----> return statistics.median(lst)\n",
    "    pass"
   ]
  },
  {
   "cell_type": "markdown",
   "metadata": {},
   "source": [
    "Part 3\n",
    "------"
   ]
  },
  {
   "cell_type": "code",
   "execution_count": 1,
   "metadata": {
    "collapsed": false
   },
   "outputs": [],
   "source": [
    "def print_stats(lst):\n",
    "    \"\"\"Print common statistics about the word frequencies of a list of words.\"\"\"\n",
    "    print (count_freq(lst))\n",
    "    print (mean(lst))\n",
    "    print (stdev(lst))\n",
    "    print (median(lst))\n",
    "    pass"
   ]
  },
  {
   "cell_type": "code",
   "execution_count": null,
   "metadata": {
    "collapsed": true
   },
   "outputs": [],
   "source": []
  }
 ],
 "metadata": {
  "kernelspec": {
   "display_name": "Python 3",
   "language": "python",
   "name": "python3"
  },
  "language_info": {
   "codemirror_mode": {
    "name": "ipython",
    "version": 3
   },
   "file_extension": ".py",
   "mimetype": "text/x-python",
   "name": "python",
   "nbconvert_exporter": "python",
   "pygments_lexer": "ipython3",
   "version": "3.5.1"
  }
 },
 "nbformat": 4,
 "nbformat_minor": 0
}
