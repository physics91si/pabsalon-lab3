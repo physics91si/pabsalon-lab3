{
 "cells": [
  {
   "cell_type": "markdown",
   "metadata": {},
   "source": [
    "Physics 91SI\n",
    "\n",
    "Spring 2015\n",
    "\n",
    "Lab 2\n",
    "=====\n",
    "\n",
    "Part 1\n",
    "------"
   ]
  },
  {
   "cell_type": "code",
   "execution_count": 5,
   "metadata": {
    "collapsed": false
   },
   "outputs": [],
   "source": [
    "# Don't edit this function\n",
    "def load_sample():\n",
    "    \"\"\"Return the entire text of Hamlet in a string.\"\"\"\n",
    "    with open('hamlet.txt') as f:\n",
    "        sample = f.read()\n",
    "    return sample"
   ]
  },
  {
   "cell_type": "code",
   "execution_count": 4,
   "metadata": {
    "collapsed": false
   },
   "outputs": [],
   "source": [
    "# Edit this function. \"pass\" tells Python to do nothing.\n",
    "def parse_sample(text, words_only = False, sort_list = False):\n",
    "    list = []\n",
    "    word = \"\"\n",
    "    for char in text:\n",
    "        if char != \" \" and not specialLetters(char):\n",
    "            word += char \n",
    "        else:\n",
    "            list.append(word)\n",
    "            word = \"\"\n",
    "        \n",
    "    if sort_list:\n",
    "        list.sort()\n",
    "        \n",
    "    return list"
   ]
  },
  {
   "cell_type": "code",
   "execution_count": 3,
   "metadata": {
    "collapsed": true
   },
   "outputs": [],
   "source": [
    "def specialLetters(ch):\n",
    "    if ch == '.' or ch == ',' or ch == ':' or ch == ';' or ch == '\"' or ch == ''or ch == '?' or ch == '!': return True\n",
    "    \n",
    "    return False"
   ]
  },
  {
   "cell_type": "markdown",
   "metadata": {},
   "source": [
    "Part 2\n",
    "------"
   ]
  },
  {
   "cell_type": "code",
   "execution_count": 5,
   "metadata": {
    "collapsed": false
   },
   "outputs": [],
   "source": [
    "import statistics\n",
    "\n",
    "def count_freq(lst):\n",
    "    wordFrequencies = {}\n",
    "    for keys in lst:\n",
    "        if keys in wordFrequencies:\n",
    "            wordFrequencies[keys] = wordFrequencies[keys] + 1\n",
    "        else:    \n",
    "            wordFrequencies[keys] = 1   \n",
    "    return wordFrequencies    \n",
    "    pass\n",
    "\n",
    "def mean(lst):\n",
    "    return statistics.mean(lst)\n",
    "    pass\n",
    "\n",
    "def stdev(lst):\n",
    "    return statistics.stdev(lst)\n",
    "    pass\n",
    "\n",
    "def median(lst):\n",
    "    return statistics.median(lst)\n",
    "    pass"
   ]
  },
  {
   "cell_type": "markdown",
   "metadata": {},
   "source": [
    "Part 3\n",
    "------"
   ]
  },
  {
   "cell_type": "code",
   "execution_count": 1,
   "metadata": {
    "collapsed": false
   },
   "outputs": [],
   "source": [
    "def print_stats(lst):\n",
    "    \"\"\"Print common statistics about the word frequencies of a list of words.\"\"\"\n",
    "    print (count_freq(lst))\n",
    "    print (mean(lst))\n",
    "    print (stdev(lst))\n",
    "    print (median(lst))\n",
    "    pass"
   ]
  }
 ],
 "metadata": {
  "kernelspec": {
   "display_name": "Python 3",
   "language": "python",
   "name": "python3"
  },
  "language_info": {
   "codemirror_mode": {
    "name": "ipython",
    "version": 3
   },
   "file_extension": ".py",
   "mimetype": "text/x-python",
   "name": "python",
   "nbconvert_exporter": "python",
   "pygments_lexer": "ipython3",
   "version": "3.5.1"
  }
 },
 "nbformat": 4,
 "nbformat_minor": 0
}
